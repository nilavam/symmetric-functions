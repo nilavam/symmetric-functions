{
 "cells": [
  {
   "cell_type": "code",
   "execution_count": 1,
   "id": "316e9f3a",
   "metadata": {
    "scrolled": true
   },
   "outputs": [],
   "source": [
    "s = SymmetricFunctions(QQ).s()"
   ]
  },
  {
   "cell_type": "code",
   "execution_count": 139,
   "id": "30c8b9d3",
   "metadata": {},
   "outputs": [
    {
     "data": {
      "text/plain": [
       "20"
      ]
     },
     "execution_count": 139,
     "metadata": {},
     "output_type": "execute_result"
    }
   ],
   "source": [
    "a = s([2,2,1]).expand(4)\n",
    "a"
   ]
  },
  {
   "cell_type": "code",
   "execution_count": 173,
   "id": "4c1b616c",
   "metadata": {},
   "outputs": [
    {
     "data": {
      "text/plain": [
       "x"
      ]
     },
     "execution_count": 173,
     "metadata": {},
     "output_type": "execute_result"
    }
   ],
   "source": [
    "y = var('x')\n",
    "y"
   ]
  },
  {
   "cell_type": "code",
   "execution_count": 26,
   "id": "6e9cd377",
   "metadata": {},
   "outputs": [
    {
     "data": {
      "text/plain": [
       "1"
      ]
     },
     "execution_count": 26,
     "metadata": {},
     "output_type": "execute_result"
    }
   ],
   "source": [
    "a([1,1,0])"
   ]
  },
  {
   "cell_type": "code",
   "execution_count": 68,
   "id": "10e24a04",
   "metadata": {},
   "outputs": [
    {
     "data": {
      "text/plain": [
       "[4, 6, 1, 3, 5, 2]"
      ]
     },
     "execution_count": 68,
     "metadata": {},
     "output_type": "execute_result"
    }
   ],
   "source": [
    "L1=[5,2,6,1,4,3]\n",
    "L2=[1,3,5,6,4,2]\n",
    "perm = Word(L2).standard_permutation() / Word(L1).standard_permutation()\n",
    "x = [L1[i-1] for i in perm]\n",
    "perm"
   ]
  },
  {
   "cell_type": "code",
   "execution_count": 143,
   "id": "3ee32e14",
   "metadata": {},
   "outputs": [
    {
     "data": {
      "text/plain": [
       "378"
      ]
     },
     "execution_count": 143,
     "metadata": {},
     "output_type": "execute_result"
    }
   ],
   "source": [
    "#p is a numerical partition\n",
    "#computes schur_lambda(1,1,...,1)\n",
    "def Schur_evaluate_num(p, d = None):\n",
    "    if (d is None):\n",
    "        d = sum(p)\n",
    "    schur = s(p).expand(d)\n",
    "    dim = schur([1 for i in range(d)])\n",
    "    return dim\n",
    "x = [2,1,1]\n",
    "Schur_evaluate_num(x,6)"
   ]
  },
  {
   "cell_type": "code",
   "execution_count": 182,
   "id": "46e10be6",
   "metadata": {},
   "outputs": [
    {
     "name": "stdout",
     "output_type": "stream",
     "text": [
      "1/12*(x0 - x1 + 1)*(x0 - x2 + 2)*(x0 - x3 + 3)*(x1 - x2 + 1)*(x1 - x3 + 2)*(x2 - x3 + 1)\n"
     ]
    },
    {
     "data": {
      "text/plain": [
       "15"
      ]
     },
     "execution_count": 182,
     "metadata": {},
     "output_type": "execute_result"
    }
   ],
   "source": [
    "#p is a sylbolic partition\n",
    "def irrep_Sym_symb(p):\n",
    "    n = len(p)\n",
    "    dim = 1\n",
    "    for i in range(n):\n",
    "        for j in range(i+1,n):\n",
    "            dim = dim * ((p[i]-p[j])/(j-i) + 1)\n",
    "    return dim\n",
    "\n",
    "vars = []\n",
    "for i in range(4):\n",
    "    vars.append(var('x{}'.format(i)))\n",
    "vars\n",
    "a = irrep_Sym_symb(vars) #schur_{x0,x1,x2,...}(1,1,...,1)\n",
    "print(a)\n",
    "a.subs(x0 == 2, x1 == 1, x2 == 1, x3 == 0)"
   ]
  },
  {
   "cell_type": "code",
   "execution_count": 155,
   "id": "bc20268d",
   "metadata": {},
   "outputs": [
    {
     "name": "stdout",
     "output_type": "stream",
     "text": [
      "1/12*(x1 - x2 + 1)*(x1 - x3 + 2)*(x1 - x4 + 3)*(x2 - x3 + 1)*(x2 - x4 + 2)*(x3 - x4 + 1)\n"
     ]
    }
   ],
   "source": [
    "#n is the number of variables or the length of the partition\n",
    "def irrep_Sym_symb2(n):\n",
    "    vars = []\n",
    "    for i in range(1,n+1):\n",
    "        vars.append(var('x{}'.format(i)))\n",
    "    vars\n",
    "    dim = 1\n",
    "    for i in range(n):\n",
    "        for j in range(i+1,n):\n",
    "            dim = dim * ((vars[i]-vars[j])/(j-i) + 1)\n",
    "    return dim\n",
    "\n",
    "\n",
    "a = irrep_Sym_symb2(4) #schur_{x1,x2,...,xn}(1,1,...,1)\n",
    "print(a)\n",
    "#a.subs(x0 == 3, x1 == 2, x2 == 0, x3 == 0)"
   ]
  },
  {
   "cell_type": "code",
   "execution_count": 164,
   "id": "5debe303",
   "metadata": {},
   "outputs": [
    {
     "data": {
      "text/plain": [
       "[3, 2, 1, 1]"
      ]
     },
     "execution_count": 164,
     "metadata": {},
     "output_type": "execute_result"
    }
   ],
   "source": [
    "def conjugate(p):\n",
    "    x = []\n",
    "    l = len(p)\n",
    "    for i in range(1,p[0]+1):\n",
    "        s = 0\n",
    "        for j in range(l):\n",
    "            if (p[j] >= i):\n",
    "                s += 1\n",
    "            else:\n",
    "                break\n",
    "        x.append(s)\n",
    "    return x\n",
    "conjugate([4,2,1])"
   ]
  },
  {
   "cell_type": "code",
   "execution_count": 165,
   "id": "41907475",
   "metadata": {},
   "outputs": [],
   "source": [
    "def arm(p,i,j): return (p[i]-j)"
   ]
  },
  {
   "cell_type": "code",
   "execution_count": 169,
   "id": "ecdfb497",
   "metadata": {},
   "outputs": [],
   "source": [
    "def leg(p,i,j): return (conjugate(p)[j]-i)"
   ]
  },
  {
   "cell_type": "code",
   "execution_count": 168,
   "id": "27e1e26c",
   "metadata": {},
   "outputs": [],
   "source": [
    "def hook(p,i,j): return (arm(p,i,j)+leg(p,i,j)+1)"
   ]
  },
  {
   "cell_type": "code",
   "execution_count": 170,
   "id": "2ba77507",
   "metadata": {},
   "outputs": [],
   "source": [
    "def n(p):\n",
    "    l = len(p)\n",
    "    s = 0\n",
    "    for i in range(l):\n",
    "        s += i * p[i]\n",
    "    return s"
   ]
  },
  {
   "cell_type": "code",
   "execution_count": 179,
   "id": "1f5a0557",
   "metadata": {},
   "outputs": [
    {
     "data": {
      "text/plain": [
       "6"
      ]
     },
     "execution_count": 179,
     "metadata": {},
     "output_type": "execute_result"
    }
   ],
   "source": [
    "def content_poly(p):\n",
    "    x = var('x')\n",
    "    l = len(p)\n",
    "    poly = 1\n",
    "    for i in range(l):\n",
    "        for j in range(p[i]):\n",
    "            poly *= (x+j-i)\n",
    "    return poly\n",
    "content_poly([2,1]).subs(x==2)"
   ]
  },
  {
   "cell_type": "code",
   "execution_count": 190,
   "id": "0e6983a5",
   "metadata": {},
   "outputs": [
    {
     "data": {
      "text/plain": [
       "15"
      ]
     },
     "execution_count": 190,
     "metadata": {},
     "output_type": "execute_result"
    }
   ],
   "source": [
    "#schur_lambda(1,1,1,....,1), n many 1's\n",
    "def schur_at_one(p,n):\n",
    "    l = len(p)\n",
    "    s = content_poly(p).subs(x==n)\n",
    "    q = conjugate(p)\n",
    "    for i in range(l):\n",
    "        for j in range(p[i]):\n",
    "            #the hook length is p[i]+q[j]-i-j+1, where i,j are indexed from 1\n",
    "            #since i,j are indexed from 0, replace i,j by i+1,j+1 respectively when\n",
    "            s = s/(p[i]+q[j]-i-j-1)\n",
    "    return s\n",
    "schur_at_one([2,1,1],4)"
   ]
  }
 ],
 "metadata": {
  "kernelspec": {
   "display_name": "SageMath 9.5",
   "language": "sage",
   "name": "sagemath-9.5"
  },
  "language_info": {
   "codemirror_mode": {
    "name": "ipython",
    "version": 3
   },
   "file_extension": ".py",
   "mimetype": "text/x-python",
   "name": "python",
   "nbconvert_exporter": "python",
   "pygments_lexer": "ipython3",
   "version": "3.9.9"
  }
 },
 "nbformat": 4,
 "nbformat_minor": 5
}
